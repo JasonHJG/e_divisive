{
 "cells": [
  {
   "cell_type": "code",
   "execution_count": 1,
   "metadata": {
    "collapsed": true
   },
   "outputs": [],
   "source": [
    "import numpy as np"
   ]
  },
  {
   "cell_type": "code",
   "execution_count": 655,
   "metadata": {},
   "outputs": [],
   "source": [
    "# todo: debug changes: Arguments are immutable in R\n",
    "class e_divisive:\n",
    "    def __init__(self):\n",
    "        print('case initialized')\n",
    "        \n",
    "    def divisive(self,Z, k =None, p0=.05, m = 30, R=199, alpha=2):\n",
    "        self.Z = Z\n",
    "        self.p0 = p0\n",
    "        self.min_size = m\n",
    "        self.R = R\n",
    "        self.alpha = alpha\n",
    "        self.D = self.create_distance_matrix(Z)\n",
    "        self.length = len(Z)\n",
    "        self.energy = np.zeros((self.length,2))\n",
    "        if k is None:\n",
    "            self.k = self.length\n",
    "        else:\n",
    "            self.R = 0\n",
    "        ret = pvals = permutations = None\n",
    "        changes = [0,self.length]\n",
    "        k_hat = 1 \n",
    "        con = None\n",
    "        while self.k > 0:\n",
    "            # tmp [0, 149, [0, 150, 50], 3647.021671525799]\n",
    "            # results [0.385, 199]\n",
    "            tmp = self.split(changes, self.D, self.min_size, False, self.energy)\n",
    "            i = tmp[0]\n",
    "            j = tmp[1]\n",
    "            new_changes = tmp[2]\n",
    "            estat = tmp[3]\n",
    "            con = new_changes[-1]\n",
    "            if con == -1:\n",
    "                break\n",
    "            result = self.sig_test(self.D, self.R, changes, self.min_size, estat,\n",
    "                                  self.energy)\n",
    "            pval = result[0]\n",
    "            permutations = [permutations, result[1]]\n",
    "            pvals = [pvals, pval]\n",
    "            if pval > self.p0:\n",
    "                break\n",
    "            changes = new_changes\n",
    "            k_hat += 1\n",
    "            self.k -= 1\n",
    "        tmp = sorted(changes)\n",
    "        return tmp\n",
    "            \n",
    "    def create_distance_matrix(self, Z):\n",
    "        length = len(Z)\n",
    "        matrix = np.zeros((length, length))\n",
    "        for i in range(length):\n",
    "            for j in range(length):\n",
    "                matrix[i][j] = np.abs(Z[i] - Z[j])**self.alpha\n",
    "        return matrix   \n",
    "\n",
    "    def sig_test(self, D, R, changes, min_size, estat, energy):\n",
    "        if R == 0:\n",
    "            return 0\n",
    "        over = 0\n",
    "        for i in range(R):\n",
    "            D1 = self.perm_cluster(D, changes)\n",
    "            tmp = self.split(changes = changes, D =D1, min_size = min_size, \\\n",
    "                             for_sim = True, energy=energy)\n",
    "            if tmp[3]>=estat:\n",
    "                over += 1\n",
    "        p_val = (1+over)/(R+1) # todo: might be problematic and -1\n",
    "        return [p_val, R]\n",
    "    \n",
    "    def perm_cluster(self, D, changes):\n",
    "        D1 = D.copy()\n",
    "        changes1 = changes.copy()\n",
    "        changes1 = sorted(changes1)\n",
    "        K = len(changes1) - 1\n",
    "        for i in range(K):\n",
    "            u = np.arange(changes1[i],changes1[i+1])\n",
    "            np.random.shuffle(u)\n",
    "            self.u = u\n",
    "            mesh = np.meshgrid(u,u,indexing='ij')\n",
    "            D1[changes1[i]:changes1[i+1],changes1[i]:changes1[i+1]]=D1[mesh[0],mesh[1]]\n",
    "        return D1\n",
    "            \n",
    "    def split_pointC(self, start, end, D, min_size):\n",
    "        s = start\n",
    "        best = [-1, -np.inf]\n",
    "        num_points = end - start + 1\n",
    "        tau = min_size\n",
    "        keppa = min_size << 1\n",
    "        cut1 = D[s:tau,s:tau] # notice the difference with Rc++\n",
    "        cut2 = D[tau:keppa,tau:keppa]\n",
    "        cut3 = D[s:tau,tau:keppa]\n",
    "        A = np.sum(cut1)/2\n",
    "        B1 = np.sum(cut2)/2\n",
    "        AB1 = np.sum(cut3)\n",
    "        tmp = 2*AB1/((keppa-tau)*tau) - 2*B1/((keppa-tau-1)*(keppa-tau)) - \\\n",
    "                                            2*A/((tau-1)*tau)\n",
    "        tmp *= (tau*(keppa-1)/keppa)\n",
    "        if tmp > best[1]:\n",
    "            best[0]=tau+start\n",
    "            best[1] = tmp\n",
    "        keppa += 1\n",
    "\n",
    "        B = np.ones(num_points+1)*B1 # memorization, \n",
    "        AB = np.ones(num_points+1)*AB1\n",
    "        for i in range(keppa, num_points):\n",
    "            B[i] = B[i-1]+np.sum(D[i,tau:i-1])# mind the interval\n",
    "            AB[i] = AB[i-1]+np.sum(D[i,0:tau])\n",
    "            tmp = 2*AB[i]/((i-tau)*tau) - 2*B[i]/((i-tau-1)*(i-tau))-2*A/(tau*(tau-1))\n",
    "            tmp *= (tau*(i-tau)/i)\n",
    "            if tmp > best[1]:\n",
    "                best[0] = tau + start\n",
    "                best[1] = tmp\n",
    "        tau += 1\n",
    "\n",
    "        for i in range(tau,end):\n",
    "            keppa = i + min_size\n",
    "            if keppa > num_points:\n",
    "                break\n",
    "            addA = np.sum(D[i-1,0:i-1])\n",
    "            A+=addA\n",
    "            addB = np.sum(D[i-1,i:keppa-1])\n",
    "            for j in range(keppa,num_points):\n",
    "                addB += D[i-1,j-1]\n",
    "                B[j]-=addB\n",
    "                AB[j]+=(addB -addA)\n",
    "                tmp = 2*AB[j]/((j-i)*i)-2*B[j]/((j-i-1)*(j-i))-2*A/((i-1)*i)\n",
    "                tmp *= (i*(j-i)/j)\n",
    "                if tmp > best[1]:\n",
    "                    best[0] = i+start\n",
    "                    best[1] = tmp\n",
    "        return best\n",
    "\n",
    "    def splitPoint(self, start, end, D, min_size):\n",
    "        if end - start + 1<2*min_size:\n",
    "            return [-1, -np.inf]\n",
    "        D1 = D[start:end+1, start:end+1]\n",
    "        return split_pointC(start=start, end=end, D=D1, min_size=min_size)\n",
    "\n",
    "    def split(self, changes, D, min_size, for_sim, energy):\n",
    "        changes1 = changes.copy()\n",
    "        splits = sorted(changes1)\n",
    "        best = [-1,-np.inf]\n",
    "        ii = jj = -1\n",
    "        if for_sim:\n",
    "            for i in range(1,len(splits)):\n",
    "                tmp = splitPoint(splits[i-1],splits[i]-1,D,min_size)\n",
    "                if tmp[1]>best[1]:\n",
    "                    ii = splits[i-1]\n",
    "                    jj = splits[i]-1\n",
    "                    best = tmp\n",
    "            new_changes = changes1.copy()\n",
    "            new_changes.append(best[0])\n",
    "            return [ii,jj,new_changes,best[1]]\n",
    "        else:\n",
    "            for i in range(1, len(splits)):\n",
    "                if energy[splits[i-1],0] != 0:\n",
    "                    tmp = energy[splits[i-1],]\n",
    "                else:\n",
    "                    tmp = splitPoint(splits[i-1],splits[i]-1,D,min_size)\n",
    "                    energy[splits[i-1],0] = tmp[0]\n",
    "                    energy[splits[i-1],1] = tmp[1]\n",
    "                if tmp[1]>best[1]:\n",
    "                    ii = splits[i-1]\n",
    "                    jj = splits[i]-1\n",
    "                    best = tmp\n",
    "        new_changes = changes1.copy()\n",
    "        new_changes.append(best[0])\n",
    "        energy[ii,0] = 0\n",
    "        energy[jj,1] = 0\n",
    "        return [ii,jj,new_changes,best[1]]"
   ]
  },
  {
   "cell_type": "code",
   "execution_count": 662,
   "metadata": {},
   "outputs": [],
   "source": [
    "l1 = 50\n",
    "l2 = 50\n",
    "l3 = 50\n",
    "energy = - np.ones((l1+l2+l3,2))\n",
    "x1 = np.random.normal(0,.1,l1)\n",
    "x2 = np.random.normal(1,.1,l2)\n",
    "x3 = np.random.normal(2,.1,l3)\n",
    "x = np.r_[x1,x2,x3]\n",
    "D = np.zeros((l1+l2+l3,l1+l2+l3))\n",
    "energy = np.zeros((150,2))\n",
    "for i in range(l1+l2+l3):\n",
    "    for j in range(l1+l2+l3):\n",
    "        D[i][j] = np.abs(x[i]-x[j])**2"
   ]
  },
  {
   "cell_type": "code",
   "execution_count": 663,
   "metadata": {},
   "outputs": [
    {
     "name": "stdout",
     "output_type": "stream",
     "text": [
      "case initialized\n"
     ]
    }
   ],
   "source": [
    "ed = e_divisive()"
   ]
  },
  {
   "cell_type": "code",
   "execution_count": 664,
   "metadata": {
    "scrolled": false
   },
   "outputs": [],
   "source": [
    "tmp = ed.divisive(Z=x,p0=.05,m=30)"
   ]
  },
  {
   "cell_type": "code",
   "execution_count": 665,
   "metadata": {},
   "outputs": [
    {
     "data": {
      "text/plain": [
       "[0, 50, 100, 150]"
      ]
     },
     "execution_count": 665,
     "metadata": {},
     "output_type": "execute_result"
    }
   ],
   "source": [
    "tmp"
   ]
  },
  {
   "cell_type": "code",
   "execution_count": null,
   "metadata": {
    "collapsed": true
   },
   "outputs": [],
   "source": []
  }
 ],
 "metadata": {
  "kernelspec": {
   "display_name": "Python 3",
   "language": "python",
   "name": "python3"
  },
  "language_info": {
   "codemirror_mode": {
    "name": "ipython",
    "version": 3
   },
   "file_extension": ".py",
   "mimetype": "text/x-python",
   "name": "python",
   "nbconvert_exporter": "python",
   "pygments_lexer": "ipython3",
   "version": "3.6.7"
  },
  "toc": {
   "nav_menu": {},
   "number_sections": true,
   "sideBar": true,
   "skip_h1_title": false,
   "title_cell": "Table of Contents",
   "title_sidebar": "Contents",
   "toc_cell": false,
   "toc_position": {},
   "toc_section_display": true,
   "toc_window_display": false
  }
 },
 "nbformat": 4,
 "nbformat_minor": 2
}
