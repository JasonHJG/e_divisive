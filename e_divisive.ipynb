{
 "cells": [
  {
   "cell_type": "code",
   "execution_count": 1,
   "metadata": {
    "collapsed": true
   },
   "outputs": [],
   "source": [
    "import numpy as np"
   ]
  },
  {
   "cell_type": "code",
   "execution_count": 2,
   "metadata": {},
   "outputs": [],
   "source": [
    "# todo: implement with cython\n",
    "class e_divisive:\n",
    "    def __init__(self, verbose = False):\n",
    "        self.verbose = verbose\n",
    "        \n",
    "    def divisive(self,Z, k =None, p0=.05, m = 30, R=199, alpha=1):\n",
    "        self.Z = Z\n",
    "        self.p0 = p0\n",
    "        self.min_size = m\n",
    "        self.R = R\n",
    "        self.alpha = alpha\n",
    "        self.D = self.create_distance_matrix(Z)\n",
    "        self.length = len(Z)\n",
    "        self.energy = np.zeros((self.length,2))\n",
    "        if k is None:\n",
    "            self.k = self.length\n",
    "        else:\n",
    "            self.R = 0\n",
    "        ret = pvals = permutations = None\n",
    "        changes = [0,self.length]\n",
    "        k_hat = 1 \n",
    "        con = None\n",
    "        while self.k > 0:\n",
    "            if self.verbose:\n",
    "                print(\"\\r at least {}% completed\".format((self.length - self.k+1)/self.length)*100,\n",
    "                     end='')\n",
    "            tmp = self.split(changes, self.D, self.min_size, False, self.energy)\n",
    "            i = int(tmp[0])\n",
    "            j = int(tmp[1])\n",
    "            new_changes = tmp[2]\n",
    "            estat = tmp[3]\n",
    "            con = new_changes[-1]\n",
    "            if con == -1:\n",
    "                break\n",
    "            result = self.sig_test(self.D, self.R, changes, self.min_size, estat,\n",
    "                                  self.energy)\n",
    "            pval = result[0]\n",
    "            permutations = [permutations, result[1]]\n",
    "            pvals = [pvals, pval]\n",
    "            if pval > self.p0:\n",
    "                break\n",
    "            changes = new_changes\n",
    "            k_hat += 1\n",
    "            self.k -= 1\n",
    "        tmp = sorted(changes)\n",
    "        return tmp\n",
    "            \n",
    "    def create_distance_matrix(self, Z):\n",
    "        length = len(Z)\n",
    "        matrix = np.zeros((length, length))\n",
    "        for i in range(length):\n",
    "            for j in range(length):\n",
    "                matrix[i][j] = np.abs(Z[i] - Z[j])**self.alpha\n",
    "        return matrix   \n",
    "\n",
    "    def sig_test(self, D, R, changes, min_size, estat, energy):\n",
    "        if R == 0:\n",
    "            return 0\n",
    "        over = 0\n",
    "        for i in range(R):\n",
    "            D1 = self.perm_cluster(D, changes)\n",
    "            tmp = self.split(changes = changes, D =D1, min_size = min_size, \\\n",
    "                             for_sim = True, energy=energy)\n",
    "            if tmp[3]>=estat:\n",
    "                over += 1\n",
    "        p_val = (1+over)/(R+1) # todo: might be problematic and -1\n",
    "        return [p_val, R]\n",
    "    \n",
    "    def perm_cluster(self, D, changes):\n",
    "        D1 = D.copy()\n",
    "        changes1 = changes.copy()\n",
    "        changes1 = sorted(changes1)\n",
    "        K = len(changes1) - 1\n",
    "        for i in range(K):\n",
    "            u = np.arange(changes1[i],changes1[i+1])\n",
    "            np.random.shuffle(u)\n",
    "            self.u = u\n",
    "            mesh = np.meshgrid(u,u,indexing='ij')\n",
    "            D1[changes1[i]:changes1[i+1],changes1[i]:changes1[i+1]]=D1[mesh[0],mesh[1]]\n",
    "        return D1\n",
    "            \n",
    "    def split_pointC(self, start, end, D, min_size):\n",
    "        s = start\n",
    "        best = [-1, -np.inf]\n",
    "        num_points = end - start + 1\n",
    "        tau = min_size\n",
    "        keppa = min_size << 1\n",
    "        cut1 = D[s:tau,s:tau] # notice the difference with Rc++\n",
    "        cut2 = D[tau:keppa,tau:keppa]\n",
    "        cut3 = D[s:tau,tau:keppa]\n",
    "        A = np.sum(cut1)/2\n",
    "        B1 = np.sum(cut2)/2\n",
    "        AB1 = np.sum(cut3)\n",
    "        tmp = 2*AB1/((keppa-tau)*tau) - 2*B1/((keppa-tau-1)*(keppa-tau)) - \\\n",
    "                                            2*A/((tau-1)*tau)\n",
    "        tmp *= (tau*(keppa-1)/keppa)\n",
    "        if tmp > best[1]:\n",
    "            best[0]=tau+start\n",
    "            best[1] = tmp\n",
    "        keppa += 1\n",
    "\n",
    "        B = np.ones(num_points+1)*B1 # memorization, \n",
    "        AB = np.ones(num_points+1)*AB1\n",
    "        for i in range(keppa, num_points):\n",
    "            B[i] = B[i-1]+np.sum(D[i,tau:i-1])# mind the interval\n",
    "            AB[i] = AB[i-1]+np.sum(D[i,0:tau])\n",
    "            tmp = 2*AB[i]/((i-tau)*tau) - 2*B[i]/((i-tau-1)*(i-tau))-2*A/(tau*(tau-1))\n",
    "            tmp *= (tau*(i-tau)/i)\n",
    "            if tmp > best[1]:\n",
    "                best[0] = tau + start\n",
    "                best[1] = tmp\n",
    "        tau += 1\n",
    "\n",
    "        for i in range(tau,end):\n",
    "            keppa = i + min_size\n",
    "            if keppa > num_points:\n",
    "                break\n",
    "            addA = np.sum(D[i-1,0:i-1])\n",
    "            A+=addA\n",
    "            addB = np.sum(D[i-1,i:keppa-1])\n",
    "            for j in range(keppa,num_points):\n",
    "                addB += D[i-1,j-1]\n",
    "                B[j]-=addB\n",
    "                AB[j]+=(addB -addA)\n",
    "                tmp = 2*AB[j]/((j-i)*i)-2*B[j]/((j-i-1)*(j-i))-2*A/((i-1)*i)\n",
    "                tmp *= (i*(j-i)/j)\n",
    "                if tmp > best[1]:\n",
    "                    best[0] = i+start\n",
    "                    best[1] = tmp\n",
    "        return best\n",
    "\n",
    "    def splitPoint(self, start, end, D, min_size):\n",
    "        if end - start + 1<2*min_size:\n",
    "            return [-1, -np.inf]\n",
    "        D1 = D[start:end+1, start:end+1]\n",
    "        return self.split_pointC(start=start, end=end, D=D1, min_size=min_size)\n",
    "\n",
    "    def split(self, changes, D, min_size, for_sim, energy):\n",
    "        changes1 = changes.copy()\n",
    "        splits = sorted(changes1)\n",
    "        best = [-1,-np.inf]\n",
    "        ii = jj = -1\n",
    "        if for_sim:\n",
    "            for i in range(1,len(splits)):\n",
    "                tmp = self.splitPoint(splits[i-1],splits[i]-1,D,min_size)\n",
    "                if tmp[1]>best[1]:\n",
    "                    ii = splits[i-1]\n",
    "                    jj = splits[i]-1\n",
    "                    best = tmp\n",
    "            new_changes = changes1.copy()\n",
    "            new_changes.append(int(best[0]))\n",
    "            return [ii,jj,new_changes,best[1]]\n",
    "        else:\n",
    "            for i in range(1, len(splits)):\n",
    "                if energy[int(splits[i-1]),0] != 0:\n",
    "                    tmp = energy[splits[i-1],]\n",
    "                else:\n",
    "                    tmp = self.splitPoint(splits[i-1],splits[i]-1,D,min_size)\n",
    "                    energy[int(splits[i-1]),0] = tmp[0]\n",
    "                    energy[int(splits[i-1]),1] = tmp[1]\n",
    "                if tmp[1]>best[1]:\n",
    "                    ii = splits[i-1]\n",
    "                    jj = splits[i]-1\n",
    "                    best = tmp\n",
    "        new_changes = changes1.copy()\n",
    "        new_changes.append(int(best[0]))\n",
    "        energy[ii,0] = 0\n",
    "        energy[jj,1] = 0\n",
    "        return [ii,jj,new_changes,best[1]]"
   ]
  },
  {
   "cell_type": "code",
   "execution_count": 3,
   "metadata": {
    "collapsed": true
   },
   "outputs": [],
   "source": [
    "import pandas as pd"
   ]
  },
  {
   "cell_type": "code",
   "execution_count": 4,
   "metadata": {
    "collapsed": true
   },
   "outputs": [],
   "source": [
    "file = pd.read_csv('/Users/jingang/Desktop/SPY.csv')"
   ]
  },
  {
   "cell_type": "code",
   "execution_count": 5,
   "metadata": {},
   "outputs": [
    {
     "data": {
      "text/html": [
       "<div>\n",
       "<style>\n",
       "    .dataframe thead tr:only-child th {\n",
       "        text-align: right;\n",
       "    }\n",
       "\n",
       "    .dataframe thead th {\n",
       "        text-align: left;\n",
       "    }\n",
       "\n",
       "    .dataframe tbody tr th {\n",
       "        vertical-align: top;\n",
       "    }\n",
       "</style>\n",
       "<table border=\"1\" class=\"dataframe\">\n",
       "  <thead>\n",
       "    <tr style=\"text-align: right;\">\n",
       "      <th></th>\n",
       "      <th>Date</th>\n",
       "      <th>Open</th>\n",
       "      <th>High</th>\n",
       "      <th>Low</th>\n",
       "      <th>Close</th>\n",
       "      <th>Adj Close</th>\n",
       "      <th>Volume</th>\n",
       "    </tr>\n",
       "  </thead>\n",
       "  <tbody>\n",
       "    <tr>\n",
       "      <th>0</th>\n",
       "      <td>2010-10-11</td>\n",
       "      <td>116.720001</td>\n",
       "      <td>116.970001</td>\n",
       "      <td>116.250000</td>\n",
       "      <td>116.650002</td>\n",
       "      <td>97.348389</td>\n",
       "      <td>103098300</td>\n",
       "    </tr>\n",
       "    <tr>\n",
       "      <th>1</th>\n",
       "      <td>2010-10-12</td>\n",
       "      <td>116.269997</td>\n",
       "      <td>117.349998</td>\n",
       "      <td>115.650002</td>\n",
       "      <td>117.010002</td>\n",
       "      <td>97.648834</td>\n",
       "      <td>182210000</td>\n",
       "    </tr>\n",
       "    <tr>\n",
       "      <th>2</th>\n",
       "      <td>2010-10-13</td>\n",
       "      <td>117.660004</td>\n",
       "      <td>118.550003</td>\n",
       "      <td>117.379997</td>\n",
       "      <td>117.919998</td>\n",
       "      <td>98.408249</td>\n",
       "      <td>194347200</td>\n",
       "    </tr>\n",
       "    <tr>\n",
       "      <th>3</th>\n",
       "      <td>2010-10-14</td>\n",
       "      <td>117.809998</td>\n",
       "      <td>118.010002</td>\n",
       "      <td>116.720001</td>\n",
       "      <td>117.459999</td>\n",
       "      <td>98.024368</td>\n",
       "      <td>217764300</td>\n",
       "    </tr>\n",
       "    <tr>\n",
       "      <th>4</th>\n",
       "      <td>2010-10-15</td>\n",
       "      <td>118.279999</td>\n",
       "      <td>118.349998</td>\n",
       "      <td>116.760002</td>\n",
       "      <td>117.699997</td>\n",
       "      <td>98.224648</td>\n",
       "      <td>243705000</td>\n",
       "    </tr>\n",
       "  </tbody>\n",
       "</table>\n",
       "</div>"
      ],
      "text/plain": [
       "         Date        Open        High         Low       Close  Adj Close  \\\n",
       "0  2010-10-11  116.720001  116.970001  116.250000  116.650002  97.348389   \n",
       "1  2010-10-12  116.269997  117.349998  115.650002  117.010002  97.648834   \n",
       "2  2010-10-13  117.660004  118.550003  117.379997  117.919998  98.408249   \n",
       "3  2010-10-14  117.809998  118.010002  116.720001  117.459999  98.024368   \n",
       "4  2010-10-15  118.279999  118.349998  116.760002  117.699997  98.224648   \n",
       "\n",
       "      Volume  \n",
       "0  103098300  \n",
       "1  182210000  \n",
       "2  194347200  \n",
       "3  217764300  \n",
       "4  243705000  "
      ]
     },
     "execution_count": 5,
     "metadata": {},
     "output_type": "execute_result"
    }
   ],
   "source": [
    "file.head()"
   ]
  },
  {
   "cell_type": "code",
   "execution_count": 6,
   "metadata": {},
   "outputs": [],
   "source": [
    "close = file['Close']\n",
    "date = file['Date']"
   ]
  },
  {
   "cell_type": "code",
   "execution_count": 7,
   "metadata": {},
   "outputs": [],
   "source": [
    "import matplotlib.pyplot as plt\n",
    "% matplotlib inline"
   ]
  },
  {
   "cell_type": "code",
   "execution_count": 8,
   "metadata": {},
   "outputs": [],
   "source": [
    "val = np.array(close)"
   ]
  },
  {
   "cell_type": "code",
   "execution_count": 9,
   "metadata": {
    "scrolled": true
   },
   "outputs": [],
   "source": [
    "ed = e_divisive()\n",
    "tmp = ed.divisive(Z=val[:500],p0=.05,m=30)"
   ]
  },
  {
   "cell_type": "code",
   "execution_count": 10,
   "metadata": {},
   "outputs": [
    {
     "data": {
      "image/png": "[encoded data removed]",
      "text/plain": [
       "<matplotlib.figure.Figure at 0x11f3045c0>"
      ]
     },
     "metadata": {},
     "output_type": "display_data"
    },
    {
     "ename": "NameError",
     "evalue": "name 'ret' is not defined",
     "output_type": "error",
     "traceback": [
      "\u001b[0;31m---------------------------------------------------------------------------\u001b[0m",
      "\u001b[0;31mNameError\u001b[0m                                 Traceback (most recent call last)",
      "\u001b[0;32m<ipython-input-10-4b552f504a5f>\u001b[0m in \u001b[0;36m<module>\u001b[0;34m()\u001b[0m\n\u001b[1;32m      2\u001b[0m \u001b[0mplt\u001b[0m\u001b[0;34m.\u001b[0m\u001b[0mvlines\u001b[0m\u001b[0;34m(\u001b[0m\u001b[0mtmp\u001b[0m\u001b[0;34m,\u001b[0m\u001b[0mymin\u001b[0m\u001b[0;34m=\u001b[0m\u001b[0;36m100\u001b[0m\u001b[0;34m,\u001b[0m\u001b[0mymax\u001b[0m\u001b[0;34m=\u001b[0m\u001b[0;36m200\u001b[0m\u001b[0;34m)\u001b[0m\u001b[0;34m\u001b[0m\u001b[0;34m\u001b[0m\u001b[0m\n\u001b[1;32m      3\u001b[0m \u001b[0mplt\u001b[0m\u001b[0;34m.\u001b[0m\u001b[0mshow\u001b[0m\u001b[0;34m(\u001b[0m\u001b[0;34m)\u001b[0m\u001b[0;34m\u001b[0m\u001b[0;34m\u001b[0m\u001b[0m\n\u001b[0;32m----> 4\u001b[0;31m \u001b[0mplt\u001b[0m\u001b[0;34m.\u001b[0m\u001b[0mplot\u001b[0m\u001b[0;34m(\u001b[0m\u001b[0mret\u001b[0m\u001b[0;34m[\u001b[0m\u001b[0;34m:\u001b[0m\u001b[0;36m500\u001b[0m\u001b[0;34m]\u001b[0m\u001b[0;34m)\u001b[0m\u001b[0;34m\u001b[0m\u001b[0;34m\u001b[0m\u001b[0m\n\u001b[0m\u001b[1;32m      5\u001b[0m \u001b[0mplt\u001b[0m\u001b[0;34m.\u001b[0m\u001b[0mvlines\u001b[0m\u001b[0;34m(\u001b[0m\u001b[0mtmp\u001b[0m\u001b[0;34m,\u001b[0m\u001b[0mymin\u001b[0m\u001b[0;34m=\u001b[0m\u001b[0;34m-\u001b[0m\u001b[0;36m0.1\u001b[0m\u001b[0;34m,\u001b[0m\u001b[0mymax\u001b[0m\u001b[0;34m=\u001b[0m\u001b[0;36m.1\u001b[0m\u001b[0;34m)\u001b[0m\u001b[0;34m\u001b[0m\u001b[0;34m\u001b[0m\u001b[0m\n",
      "\u001b[0;31mNameError\u001b[0m: name 'ret' is not defined"
     ]
    }
   ],
   "source": [
    "plt.plot(val[:500])\n",
    "plt.vlines(tmp,ymin=100,ymax=200)\n",
    "plt.show()\n",
    "plt.plot(ret[:500])\n",
    "plt.vlines(tmp,ymin=-0.1,ymax=.1)"
   ]
  },
  {
   "cell_type": "code",
   "execution_count": null,
   "metadata": {},
   "outputs": [],
   "source": [
    "tmp"
   ]
  },
  {
   "cell_type": "code",
   "execution_count": null,
   "metadata": {
    "collapsed": true
   },
   "outputs": [],
   "source": []
  }
 ],
 "metadata": {
  "kernelspec": {
   "display_name": "Python 3",
   "language": "python",
   "name": "python3"
  },
  "language_info": {
   "codemirror_mode": {
    "name": "ipython",
    "version": 3
   },
   "file_extension": ".py",
   "mimetype": "text/x-python",
   "name": "python",
   "nbconvert_exporter": "python",
   "pygments_lexer": "ipython3",
   "version": "3.6.7"
  },
  "toc": {
   "nav_menu": {},
   "number_sections": true,
   "sideBar": true,
   "skip_h1_title": false,
   "title_cell": "Table of Contents",
   "title_sidebar": "Contents",
   "toc_cell": false,
   "toc_position": {},
   "toc_section_display": true,
   "toc_window_display": false
  }
 },
 "nbformat": 4,
 "nbformat_minor": 2
}
